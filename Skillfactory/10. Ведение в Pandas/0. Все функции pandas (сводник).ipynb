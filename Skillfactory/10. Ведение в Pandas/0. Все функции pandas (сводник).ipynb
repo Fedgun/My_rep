{
 "cells": [
  {
   "cell_type": "code",
   "execution_count": 2,
   "metadata": {},
   "outputs": [
    {
     "data": {
      "text/plain": [
       "'2.2.3'"
      ]
     },
     "execution_count": 2,
     "metadata": {},
     "output_type": "execute_result"
    }
   ],
   "source": [
    "#импорт pandas\n",
    "import pandas as pd\n",
    "\n",
    "#Версия Pandas\n",
    "pd.__version__"
   ]
  },
  {
   "cell_type": "code",
   "execution_count": 4,
   "metadata": {},
   "outputs": [
    {
     "data": {
      "text/plain": [
       "UK       Англия\n",
       "CA       Канада\n",
       "US          США\n",
       "RU       Россия\n",
       "UA      Украина\n",
       "BY     Беларусь\n",
       "KZ    Казахстан\n",
       "Name: countries, dtype: object"
      ]
     },
     "metadata": {},
     "output_type": "display_data"
    }
   ],
   "source": [
    "#Создание таблицы типа Series:\n",
    "countries = pd.Series(\n",
    "    data = ['Англия', 'Канада', 'США', 'Россия', 'Украина', 'Беларусь', 'Казахстан'],\n",
    "    index = ['UK', 'CA', 'US', 'RU', 'UA', 'BY', 'KZ'],\n",
    "    name = 'countries'\n",
    ")"
   ]
  },
  {
   "cell_type": "code",
   "execution_count": 5,
   "metadata": {},
   "outputs": [
    {
     "ename": "SyntaxError",
     "evalue": "invalid syntax (2425275923.py, line 2)",
     "output_type": "error",
     "traceback": [
      "\u001b[1;36m  Cell \u001b[1;32mIn[5], line 2\u001b[1;36m\u001b[0m\n\u001b[1;33m    countries.loc[] #По значению\u001b[0m\n\u001b[1;37m                  ^\u001b[0m\n\u001b[1;31mSyntaxError\u001b[0m\u001b[1;31m:\u001b[0m invalid syntax\n"
     ]
    }
   ],
   "source": [
    "#Доступ к данным в Series\n",
    "countries.loc[] #По значению\n",
    "countries.iloc[] #По индексу"
   ]
  },
  {
   "cell_type": "code",
   "execution_count": 6,
   "metadata": {},
   "outputs": [
    {
     "data": {
      "text/html": [
       "<div>\n",
       "<style scoped>\n",
       "    .dataframe tbody tr th:only-of-type {\n",
       "        vertical-align: middle;\n",
       "    }\n",
       "\n",
       "    .dataframe tbody tr th {\n",
       "        vertical-align: top;\n",
       "    }\n",
       "\n",
       "    .dataframe thead th {\n",
       "        text-align: right;\n",
       "    }\n",
       "</style>\n",
       "<table border=\"1\" class=\"dataframe\">\n",
       "  <thead>\n",
       "    <tr style=\"text-align: right;\">\n",
       "      <th></th>\n",
       "      <th>country</th>\n",
       "      <th>population</th>\n",
       "      <th>area</th>\n",
       "    </tr>\n",
       "  </thead>\n",
       "  <tbody>\n",
       "    <tr>\n",
       "      <th>UK</th>\n",
       "      <td>Англия</td>\n",
       "      <td>56.29</td>\n",
       "      <td>133396</td>\n",
       "    </tr>\n",
       "    <tr>\n",
       "      <th>CA</th>\n",
       "      <td>Канада</td>\n",
       "      <td>38.05</td>\n",
       "      <td>9984670</td>\n",
       "    </tr>\n",
       "    <tr>\n",
       "      <th>US</th>\n",
       "      <td>США</td>\n",
       "      <td>322.28</td>\n",
       "      <td>9826630</td>\n",
       "    </tr>\n",
       "    <tr>\n",
       "      <th>RU</th>\n",
       "      <td>Россия</td>\n",
       "      <td>146.24</td>\n",
       "      <td>17125191</td>\n",
       "    </tr>\n",
       "    <tr>\n",
       "      <th>UA</th>\n",
       "      <td>Украина</td>\n",
       "      <td>45.50</td>\n",
       "      <td>603628</td>\n",
       "    </tr>\n",
       "    <tr>\n",
       "      <th>BY</th>\n",
       "      <td>Беларусь</td>\n",
       "      <td>9.50</td>\n",
       "      <td>207600</td>\n",
       "    </tr>\n",
       "    <tr>\n",
       "      <th>KZ</th>\n",
       "      <td>Казахстан</td>\n",
       "      <td>17.04</td>\n",
       "      <td>2724902</td>\n",
       "    </tr>\n",
       "  </tbody>\n",
       "</table>\n",
       "</div>"
      ],
      "text/plain": [
       "      country  population      area\n",
       "UK     Англия       56.29    133396\n",
       "CA     Канада       38.05   9984670\n",
       "US        США      322.28   9826630\n",
       "RU     Россия      146.24  17125191\n",
       "UA    Украина       45.50    603628\n",
       "BY   Беларусь        9.50    207600\n",
       "KZ  Казахстан       17.04   2724902"
      ]
     },
     "execution_count": 6,
     "metadata": {},
     "output_type": "execute_result"
    }
   ],
   "source": [
    "#Создание DataFrame\n",
    "countries_df = pd.DataFrame({\n",
    "    'country': ['Англия', 'Канада', 'США', 'Россия', 'Украина', 'Беларусь', 'Казахстан'],\n",
    "    'population': [56.29, 38.05, 322.28, 146.24, 45.5, 9.5, 17.04],\n",
    "    'area': [133396, 9984670, 9826630, 17125191, 603628, 207600, 2724902]\n",
    "})\n",
    "countries_df.index = ['UK', 'CA', 'US', 'RU', 'UA', 'BY', 'KZ'] #Добавление индекса (столбца в начало)\n",
    "countries_df.loc['RU', ['area']] #Обращение значениям (RU - строка, area - столбец)"
   ]
  },
  {
   "cell_type": "code",
   "execution_count": null,
   "metadata": {},
   "outputs": [],
   "source": [
    "#Основные функции Pandas\n",
    "\n",
    "axis = 1 (0)                # Параметр отвечающий за столбцы (1) и строки (0)\n",
    "\n",
    "type(countries_df)          #Тип данных\n",
    "\n",
    ".head()                     #Возвращает n первых значений\n",
    "\n",
    ".tail()                     #Возвращает n последних значений\n",
    "\n",
    ".describe()                 #просмотр статистических свойств\n",
    "\n",
    ".value_counts()             #Частота для каждого уникального значения\n",
    "normalize = True #(вывод в долях)\n",
    "\n",
    ".count()\t                #Количество непустых значений\n",
    "\n",
    ".mean()\t                    #Среднее значение\n",
    "\n",
    ".min()\t                    #Минимальное значение\n",
    "\n",
    ".max()\t                    #Максимальное значение\n",
    "\n",
    ".var()\t                    #Дисперсия\n",
    "\n",
    ".std()\t                    #Стандартное отклонение\n",
    "\n",
    ".sum()\t                    #Сумма\n",
    "\n",
    ".quantile(x)\t            #Квантиль уровня x\n",
    "\n",
    ".nunique()\t                #Число уникальных значений\n",
    "\n",
    ".mode()                      #Самое распространенное значение в столбце\n",
    "\n",
    ".copy()                     #Копирование \n",
    "\n",
    "drop(['index', 'Coordinates'], axis=1)    #Удаление элементов\n",
    "\n",
    "\n",
    "apply()   #Передача функции например \n",
    "melb_df['Address'].apply(get_street_type) #например \n",
    "\n",
    "nlargest() #возврат n наибольших значений nlargest(10), nlargest(125), nlargest(49)\n",
    "\n",
    ".astype('category') #Изменение типа (например 'object' на 'category)\n"
   ]
  },
  {
   "cell_type": "code",
   "execution_count": null,
   "metadata": {},
   "outputs": [],
   "source": [
    "#Даты\n",
    "\n",
    "pandas.to_datetime(melb_df['Date'], dayfirst=True)        #Преобразование дат\n",
    "\n",
    "#Функции  дат\n",
    ".dt.date    #дата;\n",
    ".dt.year, .dt.month, .dt.day #год, месяц, день;\n",
    ".dt.time #время;\n",
    ".dt.hour, .dt.minute, .dt.second #час, минута, секунда;\n",
    ".dt.dayofweek  #номер дня недели, от 0 до 6, где 0 — понедельник, 6 — воскресенье;\n",
    ".dt.day_name  #название дня недели;\n",
    ".dt.dayofyear  #порядковый день года;\n",
    ".dt.quarter #квартал (интервал в три месяца)."
   ]
  },
  {
   "cell_type": "code",
   "execution_count": null,
   "metadata": {},
   "outputs": [],
   "source": [
    "#Запись\n",
    "\n",
    "to_excel() #запись DataFrame в формат Excel-таблицы (.xlsx);\n",
    "to_json() #запись DataFrame в формат JSON (.json);\n",
    "to_xml() #запись DataFrame в формат XML-документа (.xml);\n",
    "to_sql() # запись DataFrame в базу данных SQL (для реализации этого метода необходимо установить соединение с базой данных)."
   ]
  },
  {
   "cell_type": "code",
   "execution_count": null,
   "metadata": {},
   "outputs": [],
   "source": [
    "#Чтение\n",
    "\n",
    "read_excel() #чтение из формата Excel-таблицы (.xlsx) в DataFrame;\n",
    "read_json() #чтение из формата JSON (.json) в DataFrame;\n",
    "read_xml() #чтение из формата XML-документа (.xml) в DataFrame;\n",
    "read_sql() #чтение из базы данных SQL в DataFrame (также необходимо установить соединение с базой данных)."
   ]
  }
 ],
 "metadata": {
  "kernelspec": {
   "display_name": "Python 3",
   "language": "python",
   "name": "python3"
  },
  "language_info": {
   "codemirror_mode": {
    "name": "ipython",
    "version": 3
   },
   "file_extension": ".py",
   "mimetype": "text/x-python",
   "name": "python",
   "nbconvert_exporter": "python",
   "pygments_lexer": "ipython3",
   "version": "3.12.8"
  }
 },
 "nbformat": 4,
 "nbformat_minor": 2
}
