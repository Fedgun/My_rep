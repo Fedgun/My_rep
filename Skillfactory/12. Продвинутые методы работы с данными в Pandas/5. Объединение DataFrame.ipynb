{
 "cells": [
  {
   "cell_type": "code",
   "execution_count": 24,
   "metadata": {},
   "outputs": [],
   "source": [
    "import pandas as pd\n",
    "ratings1 = pd.read_csv('data/ratings1.csv', sep=',')\n",
    "ratings2 = pd.read_csv('data/ratings2.csv', sep=',')\n",
    "movies = pd.read_csv('data/movies.csv', sep=',')\n",
    "dates = pd.read_csv('data/dates.csv', sep=',')"
   ]
  },
  {
   "cell_type": "code",
   "execution_count": 52,
   "metadata": {},
   "outputs": [
    {
     "data": {
      "text/plain": [
       "9737"
      ]
     },
     "metadata": {},
     "output_type": "display_data"
    },
    {
     "data": {
      "text/plain": [
       "274"
      ]
     },
     "metadata": {},
     "output_type": "display_data"
    },
    {
     "name": "stdout",
     "output_type": "stream",
     "text": [
      "date\n",
      "2000    10061\n",
      "2017     8198\n",
      "2007     7114\n",
      "2016     6703\n",
      "2015     6616\n",
      "2018     6418\n",
      "1996     6040\n",
      "2005     5813\n",
      "2012     4656\n",
      "2008     4351\n",
      "2009     4158\n",
      "2006     4059\n",
      "2003     4014\n",
      "2001     3922\n",
      "2002     3478\n",
      "2004     3279\n",
      "1999     2439\n",
      "2010     2301\n",
      "1997     1916\n",
      "2011     1690\n",
      "2013     1664\n",
      "2014     1439\n",
      "1998      507\n",
      "Name: count, dtype: int64\n"
     ]
    }
   ],
   "source": [
    "display(movies['title'].nunique())\n",
    "display(ratings1['userId'].nunique())\n",
    "dates['date']=pd.to_datetime(dates['date'])\n",
    "mask1 = dates['date'].dt.year.value_counts()\n",
    "print(mask1)\n"
   ]
  }
 ],
 "metadata": {
  "kernelspec": {
   "display_name": "Python 3",
   "language": "python",
   "name": "python3"
  },
  "language_info": {
   "codemirror_mode": {
    "name": "ipython",
    "version": 3
   },
   "file_extension": ".py",
   "mimetype": "text/x-python",
   "name": "python",
   "nbconvert_exporter": "python",
   "pygments_lexer": "ipython3",
   "version": "3.12.5"
  }
 },
 "nbformat": 4,
 "nbformat_minor": 2
}
