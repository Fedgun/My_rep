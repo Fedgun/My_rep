{
 "cells": [
  {
   "cell_type": "code",
   "execution_count": 2,
   "metadata": {},
   "outputs": [],
   "source": [
    "import pandas as pd\n",
    "melb_df = pd.read_csv('data/melb_data_ps.csv', sep=',')"
   ]
  },
  {
   "cell_type": "markdown",
   "metadata": {},
   "source": [
    "Мы можем написать некоторую функцию, которая принимает на вход один элемент столбца, каким-то образом его обрабатывает и возвращает результат, после чего применить эту функцию к каждому элементу в столбце с помощью специального метода apply(). В результате применения этой функции будет возвращён объект Series, элементы которого будут представлять результат работы этой функции."
   ]
  },
  {
   "cell_type": "markdown",
   "metadata": {},
   "source": [
    "Рассмотрим пример. В наших данных есть столбец с адресами объектов недвижимости. Проблема этого столбца в том, что в нём слишком большое количество уникальных значений: почти на каждый объект недвижимости в таблице приходится свой уникальный адрес. Убедимся в этом, вычислив количество уникальных значений в столбце с помощью метода nunique():"
   ]
  },
  {
   "cell_type": "code",
   "execution_count": 3,
   "metadata": {},
   "outputs": [
    {
     "name": "stdout",
     "output_type": "stream",
     "text": [
      "13378\n"
     ]
    }
   ],
   "source": [
    "print(melb_df['Address'].nunique())\n",
    "# 13378"
   ]
  },
  {
   "cell_type": "markdown",
   "metadata": {},
   "source": [
    "Из-за таких признаков зависимость между целевым признаком, который мы хотим предсказать, и признаками, на основе которых мы делаем предсказание, становится очень сложной. При этом точность моделирования при учёте такого признака может не повыситься, а даже снизиться, а производительность однозначно резко упадёт."
   ]
  },
  {
   "cell_type": "markdown",
   "metadata": {},
   "source": [
    "Обычно подобные признаки удаляют, однако можно поступить умнее: давайте извлечём из признака адреса характеристику подтипа улицы (улица, шоссе, авеню, бульвар). Для этого сначала внимательнее посмотрим на структуру адреса, выберем несколько строк столбца Address:"
   ]
  },
  {
   "cell_type": "code",
   "execution_count": 4,
   "metadata": {},
   "outputs": [
    {
     "name": "stdout",
     "output_type": "stream",
     "text": [
      "2/119 Railway St N\n",
      "9/400 Dandenong Rd\n",
      "172 Danks St\n"
     ]
    }
   ],
   "source": [
    "print(melb_df['Address'].loc[177])\n",
    "print(melb_df['Address'].loc[1812])\n",
    "print(melb_df['Address'].loc[9001])\n",
    "# 2/119 Railway St N\n",
    "# 9/400 Dandenong Rd\n",
    "# 172 Danks St"
   ]
  },
  {
   "cell_type": "markdown",
   "metadata": {},
   "source": [
    "Итак, адрес строится следующим образом: сначала указывается номер дома и корпус, после указывается название улицы, а в конце — подтип улицы, но в некоторых случаях к подтипу добавляется географическая отметка (N — север, S — юг и т. д.), она нам не нужна . Для того чтобы выделить подтип улицы, на которой находится объект, можно использовать следующую функцию:"
   ]
  },
  {
   "cell_type": "code",
   "execution_count": 5,
   "metadata": {},
   "outputs": [
    {
     "name": "stdout",
     "output_type": "stream",
     "text": [
      "St\n"
     ]
    }
   ],
   "source": [
    "# На вход данной функции поступает строка с адресом.\n",
    "def get_street_type(address):\n",
    "# Создаём список географических пометок exclude_list.\n",
    "    exclude_list = ['N', 'S', 'W', 'E']\n",
    "# Метод split() разбивает строку на слова по пробелу.\n",
    "# В результате получаем список слов в строке и заносим его в переменную address_list.\n",
    "    address_list = address.split(' ')\n",
    "# Обрезаем список, оставляя в нём только последний элемент,\n",
    "# потенциальный подтип улицы, и заносим в переменную street_type.\n",
    "    street_type = address_list[-1]\n",
    "# Делаем проверку на то, что полученный подтип является географической пометкой.\n",
    "# Для этого проверяем его на наличие в списке exclude_list.\n",
    "    if street_type in exclude_list:\n",
    "# Если переменная street_type является географической пометкой,\n",
    "# переопределяем её на второй элемент с конца списка address_list.\n",
    "        street_type = address_list[-2]\n",
    "# Возвращаем переменную street_type, в которой хранится подтип улицы.\n",
    "    return street_type\n",
    "print(get_street_type(melb_df['Address'].loc[177]))"
   ]
  },
  {
   "cell_type": "markdown",
   "metadata": {},
   "source": [
    "Теперь применим эту функцию к столбцу c адресом. Для этого передадим функцию get_street_type в аргумент метода столбца apply(). В результате получим объект Series, который положим в переменную street_types:"
   ]
  },
  {
   "cell_type": "code",
   "execution_count": 6,
   "metadata": {},
   "outputs": [
    {
     "data": {
      "text/plain": [
       "0        St\n",
       "1        St\n",
       "2        St\n",
       "3        La\n",
       "4        St\n",
       "         ..\n",
       "13575    Cr\n",
       "13576    Dr\n",
       "13577    St\n",
       "13578    St\n",
       "13579    St\n",
       "Name: Address, Length: 13580, dtype: object"
      ]
     },
     "metadata": {},
     "output_type": "display_data"
    }
   ],
   "source": [
    "street_types = melb_df['Address'].apply(get_street_type)\n",
    "display(street_types)\n",
    "\n",
    "#Обратите внимание, что функция пишется для одного элемента столбца, а метод apply() \n",
    "#применяется к каждому его элементу. Используемая функция обязательно должна иметь возвращаемое значение."
   ]
  },
  {
   "cell_type": "code",
   "execution_count": 7,
   "metadata": {},
   "outputs": [
    {
     "name": "stdout",
     "output_type": "stream",
     "text": [
      "56\n"
     ]
    }
   ],
   "source": [
    "#Итак, мы смогли выделить подтип улицы. Посмотрим, сколько уникальных значений у нас получилось:\n",
    "print(street_types.nunique())\n",
    "# 56"
   ]
  },
  {
   "cell_type": "markdown",
   "metadata": {},
   "source": [
    "У нас есть 56 уникальных значений. Однако наш результат можно улучшить. Давайте для начала посмотрим на частоту каждого подтипа улицы с помощью метода value_counts:"
   ]
  },
  {
   "cell_type": "code",
   "execution_count": 8,
   "metadata": {},
   "outputs": [
    {
     "data": {
      "text/plain": [
       "Address\n",
       "St           8012\n",
       "Rd           2825\n",
       "Ct            612\n",
       "Dr            447\n",
       "Av            321\n",
       "Gr            311\n",
       "Pde           211\n",
       "Pl            169\n",
       "Cr            152\n",
       "Cl            100\n",
       "La             67\n",
       "Bvd            53\n",
       "Tce            47\n",
       "Wy             40\n",
       "Avenue         40\n",
       "Cct            25\n",
       "Hwy            24\n",
       "Parade         15\n",
       "Boulevard      13\n",
       "Sq             11\n",
       "Crescent        9\n",
       "Cir             7\n",
       "Strand          7\n",
       "Esplanade       6\n",
       "Grove           5\n",
       "Grn             4\n",
       "Fairway         4\n",
       "Mews            4\n",
       "Gdns            4\n",
       "Righi           3\n",
       "Crossway        3\n",
       "Esp             2\n",
       "Ridge           2\n",
       "Victoria        2\n",
       "Crofts          2\n",
       "Athol           1\n",
       "Highway         1\n",
       "Cove            1\n",
       "Grange          1\n",
       "Res             1\n",
       "Terrace         1\n",
       "Qy              1\n",
       "Glade           1\n",
       "Nook            1\n",
       "Eyrie           1\n",
       "Loop            1\n",
       "Dell            1\n",
       "East            1\n",
       "Summit          1\n",
       "Grand           1\n",
       "Gra             1\n",
       "Hts             1\n",
       "Outlook         1\n",
       "Woodland        1\n",
       "Ave             1\n",
       "Corso           1\n",
       "Name: count, dtype: int64"
      ]
     },
     "metadata": {},
     "output_type": "display_data"
    }
   ],
   "source": [
    "display(street_types.value_counts())"
   ]
  },
  {
   "cell_type": "markdown",
   "metadata": {},
   "source": [
    "Из данного вывода можно увидеть, что есть группа наиболее популярных подтипов улиц, а дальше частота подтипов быстро падает.\n",
    "\n",
    "В таком случае давайте применим очень распространённый метод уменьшения количества уникальных категорий — выделим n подтипов, которые встречаются чаще всего, а остальные обозначим как 'other' (другие).\n",
    "\n",
    "Для этого к результату метода value_counts применим метод nlargest(), который возвращает n наибольших значений из Series. Зададим n=10, т. е. мы хотим отобрать десять наиболее популярных подтипов. Извлечём их названия с помощью атрибута index, а результат занесём в переменную popular_stypes:"
   ]
  },
  {
   "cell_type": "code",
   "execution_count": 9,
   "metadata": {},
   "outputs": [
    {
     "name": "stdout",
     "output_type": "stream",
     "text": [
      "Index(['St', 'Rd', 'Ct', 'Dr', 'Av', 'Gr', 'Pde', 'Pl', 'Cr', 'Cl'], dtype='object', name='Address')\n"
     ]
    }
   ],
   "source": [
    "popular_stypes =street_types.value_counts().nlargest(10).index\n",
    "print(popular_stypes)\n",
    "# Index(['St', 'Rd', 'Ct', 'Dr', 'Av', 'Gr', 'Pde', 'Pl', 'Cr', 'Cl'], dtype='object')"
   ]
  },
  {
   "cell_type": "markdown",
   "metadata": {},
   "source": [
    "Теперь, когда у нас есть список наиболее популярных подтипов улиц, введём lambda-функцию, которая будет проверять, есть ли строка x в этом перечне, и, если это так, lambda-функция будет возвращать x, в противном случае она будет возвращать строку 'other'. Наконец, применим такую функцию к Series street_types, полученной ранее, а результат определим в новый столбец таблицы StreetType:"
   ]
  },
  {
   "cell_type": "code",
   "execution_count": 10,
   "metadata": {},
   "outputs": [
    {
     "data": {
      "text/plain": [
       "0           St\n",
       "1           St\n",
       "2           St\n",
       "3        other\n",
       "4           St\n",
       "         ...  \n",
       "13575       Cr\n",
       "13576       Dr\n",
       "13577       St\n",
       "13578       St\n",
       "13579       St\n",
       "Name: StreetType, Length: 13580, dtype: object"
      ]
     },
     "metadata": {},
     "output_type": "display_data"
    }
   ],
   "source": [
    "melb_df['StreetType'] = street_types.apply(lambda x: x if x in popular_stypes else 'other')\n",
    "display(melb_df['StreetType'])"
   ]
  },
  {
   "cell_type": "code",
   "execution_count": 11,
   "metadata": {},
   "outputs": [
    {
     "name": "stdout",
     "output_type": "stream",
     "text": [
      "11\n"
     ]
    }
   ],
   "source": [
    "#Посмотрим на результирующее число уникальных подтипов:\n",
    "print(melb_df['StreetType'].nunique())\n",
    "# 11"
   ]
  },
  {
   "cell_type": "markdown",
   "metadata": {},
   "source": [
    "Теперь, у нас нет потребности хранить признак Address, так как, если конкретное местоположение объекта всё же и влияет на его стоимость, то оно определяется столбцами Longitude и Lattitude. Удалим его из нашей таблицы:"
   ]
  },
  {
   "cell_type": "code",
   "execution_count": 12,
   "metadata": {},
   "outputs": [],
   "source": [
    "melb_df = melb_df.drop('Address', axis=1)"
   ]
  },
  {
   "cell_type": "markdown",
   "metadata": {},
   "source": [
    "Таким образом, с помощью написания собственных функций и их комбинирования с методом apply() из библиотеки Pandas мы смогли извлечь информацию из признака с адресом и заменить на признак подтипа улицы. "
   ]
  },
  {
   "cell_type": "markdown",
   "metadata": {},
   "source": [
    "Резюмируя, поделимся общими рекомендациями по уменьшению числа уникальных значений в признаке, который описывается категориями:\n",
    "\n",
    "1\n",
    "Определите (хотя бы на глаз) соотношение числа уникальных категорий интересующего вас признака к общему числу объектов в таблице. Если это соотношение превышает значение 30 %, то это уже повод задуматься над уменьшением числа категорий и перейти к шагу 2.\n",
    "\n",
    "2\n",
    "Если ваш признак уникален для каждого объекта, например адрес, имя или название, то такой признак, скорее всего, не имеет статистической значимости. От таких признаков чаще всего избавляются. Однако можно попробовать выделить из этого признака какие-то общие черты, например, как мы это сделали с подтипами улиц. Такой же трюк можно произвести, например, с названиями компаний, в которых может быть скрыт признак типа организации (из строки «ООО Три Слепые Мыши» можно извлечь ООО — общество с ограниченной ответственностью).\n",
    "\n",
    "Далее переходите к шагу 3.\n",
    "\n",
    "3\n",
    "Если даже после преобразования число уникальных категорий всё ещё велико, можно попробовать с помощью метода value_counts() оценить, есть ли в данных категории, которые употребляются гораздо реже, чем остальные. Если такие категории присутствуют, переходите к шагу 4.\n",
    "\n",
    "4\n",
    "Можно подобрать число  популярных категорий таким образом, чтобы эти категории покрывали большую часть ваших данных.\n",
    "\n",
    "Когда вы выбрали оптимальное число, переходите к шагу 5.\n",
    "\n",
    "5\n",
    "Наконец, можно совершить преобразование, обозначив категории, не попавшие в число популярных, как «другие».\n",
    "\n"
   ]
  },
  {
   "cell_type": "code",
   "execution_count": 13,
   "metadata": {},
   "outputs": [
    {
     "data": {
      "text/plain": [
       "0         3/12/2016\n",
       "1         4/02/2016\n",
       "2         4/03/2017\n",
       "3         4/03/2017\n",
       "4         4/06/2016\n",
       "            ...    \n",
       "13575    26/08/2017\n",
       "13576    26/08/2017\n",
       "13577    26/08/2017\n",
       "13578    26/08/2017\n",
       "13579    26/08/2017\n",
       "Name: Date, Length: 13580, dtype: object"
      ]
     },
     "execution_count": 13,
     "metadata": {},
     "output_type": "execute_result"
    }
   ],
   "source": [
    "melb_df['Date']"
   ]
  },
  {
   "cell_type": "code",
   "execution_count": 14,
   "metadata": {},
   "outputs": [
    {
     "name": "stdout",
     "output_type": "stream",
     "text": [
      "0        5\n",
      "1        3\n",
      "2        5\n",
      "3        5\n",
      "4        5\n",
      "        ..\n",
      "13575    5\n",
      "13576    5\n",
      "13577    5\n",
      "13578    5\n",
      "13579    5\n",
      "Name: WeekdaySale, Length: 13580, dtype: int32\n"
     ]
    }
   ],
   "source": [
    "#Из задачи 3.3\n",
    "melb_df['Date'] = pd.to_datetime(melb_df['Date'], dayfirst=True)\n",
    "melb_df['WeekdaySale'] = melb_df['Date'].dt.dayofweek\n",
    "weekend_count = melb_df[(melb_df['WeekdaySale'] == 5) | (melb_df['WeekdaySale'] == 6)].shape[0]\n",
    "print(melb_df['WeekdaySale'])"
   ]
  },
  {
   "cell_type": "code",
   "execution_count": 15,
   "metadata": {},
   "outputs": [
    {
     "name": "stdout",
     "output_type": "stream",
     "text": [
      "1081198.64\n"
     ]
    }
   ],
   "source": [
    "#Задание 4.2\n",
    "#Ранее, в задании 3.3, мы создали признак WeekdaySale в таблице melb_df — день недели продажи. \n",
    "#Из полученных в задании результатов можно сделать вывод, что объекты недвижимости в Мельбурне продаются \n",
    "#преимущественно по выходным (суббота и воскресенье).\n",
    "#Напишите функцию get_weekend(weekday), которая принимает на вход элемент столбца WeekdaySale и возвращает 1, \n",
    "#если день является выходным, и 0 — в противном случае, и создайте столбец Weekend в таблице melb_df с помощью неё.\n",
    "def get_weekend(weekday):\n",
    "    if weekday == 5 or weekday == 6:\n",
    "        return 1\n",
    "    else: \n",
    "        return 0\n",
    "melb_df['Weekend'] = melb_df['WeekdaySale'].apply(get_weekend)\n",
    "print(round(melb_df[melb_df['Weekend']==1]['Price'].mean(), 2))\n",
    "        "
   ]
  },
  {
   "cell_type": "code",
   "execution_count": 16,
   "metadata": {},
   "outputs": [
    {
     "name": "stdout",
     "output_type": "stream",
     "text": [
      "1.3\n"
     ]
    }
   ],
   "source": [
    "#Задание 4.3\n",
    "#Преобразуйте столбец SellerG с наименованиями риелторских компаний в таблице melb_df следующим образом: \n",
    "#оставьте в столбце только 49 самых популярных компаний, а остальные обозначьте как 'other'.\n",
    "#Найдите, во сколько раз минимальная цена объектов недвижимости, проданных компанией 'Nelson', \n",
    "#больше минимальной цены объектов, проданных компаниями, обозначенными как 'other'. Ответ округлите до десятых.\n",
    "\n",
    "popular_seller = melb_df['SellerG'].value_counts().nlargest(49).index\n",
    "# заменяем имена компаний, не попавших в список популярных, на строку 'other'\n",
    "melb_df['SellerG'] = melb_df['SellerG'].apply(lambda x: x if x in popular_seller else 'other') \n",
    "\n",
    "a = melb_df[melb_df['SellerG'] == 'Nelson']['Price'].min()\n",
    "b = melb_df[melb_df['SellerG'] == 'other']['Price'].min()\n",
    "print(round(a/b, 1))"
   ]
  },
  {
   "cell_type": "code",
   "execution_count": 17,
   "metadata": {},
   "outputs": [
    {
     "name": "stdout",
     "output_type": "stream",
     "text": [
      "0    99\n",
      "1    41\n",
      "2    21\n",
      "3     3\n",
      "4    72\n",
      "dtype: int64\n"
     ]
    }
   ],
   "source": [
    "#Задание 4.4 (External resource)\n",
    "#Напишите функцию get_experience(arg), аргументом которой является строка столбца с опытом работы. \n",
    "#Функция должна возвращать опыт работы в месяцах. \n",
    "#Не забудьте привести результат к целому числу.\n",
    "\n",
    "test_series_1 = pd.Series([\n",
    "    'Опыт работы 8 лет 3 месяца',\n",
    "    'Опыт работы 3 года 5 месяцев',\n",
    "    'Опыт работы 1 год 9 месяцев',\n",
    "    'Опыт работы 3 месяца',\n",
    "    'Опыт работы 6 лет'\n",
    "])\n",
    "def get_experience(arg):\n",
    "    month_key_words = ['месяц', 'месяцев', 'месяца']\n",
    "    year_key_words = ['год', 'лет', 'года']\n",
    "    args_splited = arg.split(' ')\n",
    "    month = 0\n",
    "    year = 0\n",
    "    for i in range(len(args_splited)):\n",
    "        if args_splited[i] in month_key_words:\n",
    "            month = args_splited[i-1]\n",
    "        if args_splited[i] in year_key_words:\n",
    "            year = args_splited[i-1]\n",
    "    return int(year)*12 + int(month)\n",
    "\n",
    "print(test_series_1.apply(get_experience))"
   ]
  },
  {
   "cell_type": "markdown",
   "metadata": {},
   "source": [
    "** Дополнительные действия, что бы сохранить новый фаил а работать по уроку в 5 модуле"
   ]
  },
  {
   "cell_type": "code",
   "execution_count": 30,
   "metadata": {},
   "outputs": [],
   "source": [
    "melb_df['MonthSale'] = melb_df['Date'].dt.month\n"
   ]
  },
  {
   "cell_type": "code",
   "execution_count": 36,
   "metadata": {},
   "outputs": [],
   "source": [
    "total_rooms = melb_df['Rooms'] + melb_df['Bedroom'] + melb_df['Bathroom']\n",
    "melb_df['MeanRoomsArea'] = melb_df['BuildingArea'] / total_rooms"
   ]
  },
  {
   "cell_type": "code",
   "execution_count": 43,
   "metadata": {},
   "outputs": [],
   "source": [
    "melb_df = melb_df.drop(['Landsize', 'Price', 'Lattitude', 'Longtitude'], axis=1)"
   ]
  },
  {
   "cell_type": "code",
   "execution_count": 46,
   "metadata": {},
   "outputs": [
    {
     "data": {
      "text/html": [
       "<div>\n",
       "<style scoped>\n",
       "    .dataframe tbody tr th:only-of-type {\n",
       "        vertical-align: middle;\n",
       "    }\n",
       "\n",
       "    .dataframe tbody tr th {\n",
       "        vertical-align: top;\n",
       "    }\n",
       "\n",
       "    .dataframe thead th {\n",
       "        text-align: right;\n",
       "    }\n",
       "</style>\n",
       "<table border=\"1\" class=\"dataframe\">\n",
       "  <thead>\n",
       "    <tr style=\"text-align: right;\">\n",
       "      <th></th>\n",
       "      <th>Coulumn_Name</th>\n",
       "      <th>Num_Unique</th>\n",
       "      <th>Type</th>\n",
       "    </tr>\n",
       "  </thead>\n",
       "  <tbody>\n",
       "    <tr>\n",
       "      <th>0</th>\n",
       "      <td>Weekend</td>\n",
       "      <td>2</td>\n",
       "      <td>int64</td>\n",
       "    </tr>\n",
       "    <tr>\n",
       "      <th>1</th>\n",
       "      <td>Type</td>\n",
       "      <td>3</td>\n",
       "      <td>object</td>\n",
       "    </tr>\n",
       "    <tr>\n",
       "      <th>2</th>\n",
       "      <td>WeekdaySale</td>\n",
       "      <td>5</td>\n",
       "      <td>int32</td>\n",
       "    </tr>\n",
       "    <tr>\n",
       "      <th>3</th>\n",
       "      <td>Method</td>\n",
       "      <td>5</td>\n",
       "      <td>object</td>\n",
       "    </tr>\n",
       "    <tr>\n",
       "      <th>4</th>\n",
       "      <td>Regionname</td>\n",
       "      <td>8</td>\n",
       "      <td>object</td>\n",
       "    </tr>\n",
       "    <tr>\n",
       "      <th>5</th>\n",
       "      <td>Rooms</td>\n",
       "      <td>9</td>\n",
       "      <td>int64</td>\n",
       "    </tr>\n",
       "    <tr>\n",
       "      <th>6</th>\n",
       "      <td>Bathroom</td>\n",
       "      <td>9</td>\n",
       "      <td>int64</td>\n",
       "    </tr>\n",
       "    <tr>\n",
       "      <th>7</th>\n",
       "      <td>StreetType</td>\n",
       "      <td>11</td>\n",
       "      <td>object</td>\n",
       "    </tr>\n",
       "    <tr>\n",
       "      <th>8</th>\n",
       "      <td>Car</td>\n",
       "      <td>11</td>\n",
       "      <td>int64</td>\n",
       "    </tr>\n",
       "    <tr>\n",
       "      <th>9</th>\n",
       "      <td>MonthSale</td>\n",
       "      <td>12</td>\n",
       "      <td>int32</td>\n",
       "    </tr>\n",
       "    <tr>\n",
       "      <th>10</th>\n",
       "      <td>Bedroom</td>\n",
       "      <td>12</td>\n",
       "      <td>int64</td>\n",
       "    </tr>\n",
       "    <tr>\n",
       "      <th>11</th>\n",
       "      <td>CouncilArea</td>\n",
       "      <td>33</td>\n",
       "      <td>object</td>\n",
       "    </tr>\n",
       "    <tr>\n",
       "      <th>12</th>\n",
       "      <td>SellerG</td>\n",
       "      <td>50</td>\n",
       "      <td>object</td>\n",
       "    </tr>\n",
       "    <tr>\n",
       "      <th>13</th>\n",
       "      <td>Date</td>\n",
       "      <td>58</td>\n",
       "      <td>datetime64[ns]</td>\n",
       "    </tr>\n",
       "    <tr>\n",
       "      <th>14</th>\n",
       "      <td>AgeBuilding</td>\n",
       "      <td>152</td>\n",
       "      <td>int64</td>\n",
       "    </tr>\n",
       "    <tr>\n",
       "      <th>15</th>\n",
       "      <td>Postcode</td>\n",
       "      <td>198</td>\n",
       "      <td>int64</td>\n",
       "    </tr>\n",
       "    <tr>\n",
       "      <th>16</th>\n",
       "      <td>Distance</td>\n",
       "      <td>202</td>\n",
       "      <td>float64</td>\n",
       "    </tr>\n",
       "    <tr>\n",
       "      <th>17</th>\n",
       "      <td>Propertycount</td>\n",
       "      <td>311</td>\n",
       "      <td>int64</td>\n",
       "    </tr>\n",
       "    <tr>\n",
       "      <th>18</th>\n",
       "      <td>Suburb</td>\n",
       "      <td>314</td>\n",
       "      <td>object</td>\n",
       "    </tr>\n",
       "    <tr>\n",
       "      <th>19</th>\n",
       "      <td>BuildingArea</td>\n",
       "      <td>602</td>\n",
       "      <td>float64</td>\n",
       "    </tr>\n",
       "    <tr>\n",
       "      <th>20</th>\n",
       "      <td>MeanRoomsArea</td>\n",
       "      <td>1277</td>\n",
       "      <td>float64</td>\n",
       "    </tr>\n",
       "  </tbody>\n",
       "</table>\n",
       "</div>"
      ],
      "text/plain": [
       "     Coulumn_Name  Num_Unique            Type\n",
       "0         Weekend           2           int64\n",
       "1            Type           3          object\n",
       "2     WeekdaySale           5           int32\n",
       "3          Method           5          object\n",
       "4      Regionname           8          object\n",
       "5           Rooms           9           int64\n",
       "6        Bathroom           9           int64\n",
       "7      StreetType          11          object\n",
       "8             Car          11           int64\n",
       "9       MonthSale          12           int32\n",
       "10        Bedroom          12           int64\n",
       "11    CouncilArea          33          object\n",
       "12        SellerG          50          object\n",
       "13           Date          58  datetime64[ns]\n",
       "14    AgeBuilding         152           int64\n",
       "15       Postcode         198           int64\n",
       "16       Distance         202         float64\n",
       "17  Propertycount         311           int64\n",
       "18         Suburb         314          object\n",
       "19   BuildingArea         602         float64\n",
       "20  MeanRoomsArea        1277         float64"
      ]
     },
     "metadata": {},
     "output_type": "display_data"
    }
   ],
   "source": [
    "#создаём пустой список\n",
    "unique_list = []\n",
    "#пробегаемся по именам столбцов в таблице\n",
    "for col in melb_df.columns:\n",
    "    #создаем имя столбца (имя столбца, число уникальныъ значений)\n",
    "    item = (col, melb_df[col].nunique(), melb_df[col].dtypes) #добавляем кортеж в список\n",
    "    unique_list.append(item)\n",
    "#создаём вспомогательную таблицу и сортируем её\n",
    "unique_counts = pd.DataFrame(\n",
    "    unique_list,\n",
    "    columns=['Coulumn_Name', 'Num_Unique', 'Type']\n",
    ").sort_values(by='Num_Unique', ignore_index = True)\n",
    "#выводим её на экран\n",
    "display(unique_counts)"
   ]
  },
  {
   "cell_type": "code",
   "execution_count": 47,
   "metadata": {},
   "outputs": [],
   "source": [
    "melb_df.to_csv('data/melb_data_v1.csv', index=False, sep = ',')"
   ]
  },
  {
   "cell_type": "code",
   "execution_count": 1,
   "metadata": {},
   "outputs": [],
   "source": [
    "import numpy as np"
   ]
  },
  {
   "cell_type": "code",
   "execution_count": null,
   "metadata": {},
   "outputs": [],
   "source": [
    "numpy.zeros(n, m)"
   ]
  }
 ],
 "metadata": {
  "kernelspec": {
   "display_name": "Python 3",
   "language": "python",
   "name": "python3"
  },
  "language_info": {
   "codemirror_mode": {
    "name": "ipython",
    "version": 3
   },
   "file_extension": ".py",
   "mimetype": "text/x-python",
   "name": "python",
   "nbconvert_exporter": "python",
   "pygments_lexer": "ipython3",
   "version": "3.12.5"
  }
 },
 "nbformat": 4,
 "nbformat_minor": 2
}
